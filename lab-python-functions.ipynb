{
 "cells": [
  {
   "cell_type": "markdown",
   "id": "25d7736c-ba17-4aff-b6bb-66eba20fbf4e",
   "metadata": {},
   "source": [
    "# Lab | Functions"
   ]
  },
  {
   "cell_type": "markdown",
   "id": "0c581062-8967-4d93-b06e-62833222f930",
   "metadata": {
    "tags": []
   },
   "source": [
    "## Exercise: Managing Customer Orders with Functions\n",
    "\n",
    "In the previous exercise, you improved the code for managing customer orders by using loops and flow control. Now, let's take it a step further and refactor the code by introducing functions.\n",
    "\n",
    "Follow the steps below to complete the exercise:\n",
    "\n",
    "1. Define a function named `initialize_inventory` that takes `products` as a parameter. Inside the function, implement the code for initializing the inventory dictionary using a loop and user input.\n",
    "\n",
    "2. Define a function named `get_customer_orders` that takes no parameters. Inside the function, implement the code for prompting the user to enter the product names using a loop. The function should return the `customer_orders` set.\n",
    "\n",
    "3. Define a function named `update_inventory` that takes `customer_orders` and `inventory` as parameters. Inside the function, implement the code for updating the inventory dictionary based on the customer orders.\n",
    "\n",
    "4. Define a function named `calculate_order_statistics` that takes `customer_orders` and `products` as parameters. Inside the function, implement the code for calculating the order statistics (total products ordered, and percentage of unique products ordered). The function should return these values.\n",
    "\n",
    "5. Define a function named `print_order_statistics` that takes `order_statistics` as a parameter. Inside the function, implement the code for printing the order statistics.\n",
    "\n",
    "6. Define a function named `print_updated_inventory` that takes `inventory` as a parameter. Inside the function, implement the code for printing the updated inventory.\n",
    "\n",
    "7. Call the functions in the appropriate sequence to execute the program and manage customer orders.\n",
    "\n",
    "Hints for functions:\n",
    "\n",
    "- Consider the input parameters required for each function and their return values.\n",
    "- Utilize function parameters and return values to transfer data between functions.\n",
    "- Test your functions individually to ensure they work correctly.\n",
    "\n",
    "\n"
   ]
  },
  {
   "cell_type": "code",
   "execution_count": 30,
   "id": "fd110683",
   "metadata": {},
   "outputs": [],
   "source": [
    "def initialize_inventory(products):\n",
    "    inventory = {}\n",
    "    for product in products:\n",
    "        available= input(f\"Enter the quantity of {product} available: \") # ask user to input the quantity of each product\n",
    "        while not available.isdigit(): # check if the input is an integer\n",
    "            available = input(f\"Invalid quantity. Please enter the quantity of {product} available: \")\n",
    "        inventory[product] = int(available) # add the product and its quantity to the inventory dictionary \n",
    "    \n",
    "    return inventory"
   ]
  },
  {
   "cell_type": "code",
   "execution_count": 31,
   "id": "50ed8755",
   "metadata": {},
   "outputs": [],
   "source": [
    "def get_customer_orders(products, inventory):\n",
    "    customer_orders = set() # empty set to store the customer orders\n",
    "    while True:\n",
    "        product = input(f\"Please enter the product you want between {products}: \") # ask user to input the three productc they want\n",
    "        while product not in products: # check if the input is in the list of products\n",
    "            product = input(f\"Invalid product. Please enter the product you want between {products}: \")\n",
    "        while inventory[product]==0:\n",
    "            product = input(f\"The product is out of stock. Please enter the product you want: \")\n",
    "        customer_orders.add(product) # add the product to the customer orders\n",
    "\n",
    "        ask = input(\"Do you want to add another product? (yes/no)\")\n",
    "        while ask.lower() != \"no\" and ask.lower() != \"yes\":\n",
    "            ask = input(\"Invalid input. Do you want to add another product? (yes/no)\")\n",
    "        if ask.lower() == \"no\":\n",
    "            break\n",
    "\n",
    "    print()\n",
    "    print(\"Customer orders:\")\n",
    "    print(customer_orders)\n",
    "\n",
    "    return customer_orders"
   ]
  },
  {
   "cell_type": "code",
   "execution_count": 32,
   "id": "92623811",
   "metadata": {},
   "outputs": [],
   "source": [
    "def update_inventory(customer_orders, inventory):\n",
    "    for product in customer_orders:\n",
    "        inventory[product] -= 1 # update the inventory"
   ]
  },
  {
   "cell_type": "code",
   "execution_count": 61,
   "id": "0ff369b4",
   "metadata": {},
   "outputs": [],
   "source": [
    "def order_statistics(customer_orders, products):\n",
    "    total_products_ordered = len(customer_orders) # count the total number of products ordered\n",
    "    total_products = len(products) # count the total number of products available\n",
    "    percentage = total_products_ordered/total_products*100 # calculate the percentage of products ordered\n",
    "    order_status = (total_products_ordered, percentage) # tuple of total products ordered and percentage\n",
    "    return order_status"
   ]
  },
  {
   "cell_type": "code",
   "execution_count": 62,
   "id": "56b6a023",
   "metadata": {},
   "outputs": [],
   "source": [
    "def print_order_statistics(order_statistics):\n",
    "    print()\n",
    "    print(\"Order Statistics:\")\n",
    "    print(\"Total Products Ordered:\", order_statistics[0])\n",
    "    print(\"Percentage of Products Ordered:\", order_statistics[1], \"%\")"
   ]
  },
  {
   "cell_type": "code",
   "execution_count": 35,
   "id": "a70a8991",
   "metadata": {},
   "outputs": [],
   "source": [
    "def print_update_inventory(inventory):\n",
    "    print()\n",
    "    for key,value in inventory.items(): # print the updated inventory\n",
    "        print(f\"{key}: {value}\")"
   ]
  },
  {
   "cell_type": "code",
   "execution_count": 41,
   "id": "2effcf0e",
   "metadata": {},
   "outputs": [
    {
     "name": "stdout",
     "output_type": "stream",
     "text": [
      "{'t-shirt': 7, 'mug': 4, 'hat': 9, 'book': 3, 'keychain': 2}\n"
     ]
    }
   ],
   "source": [
    "products = [\"t-shirt\", \"mug\", \"hat\", \"book\", \"keychain\"] # list of products\n",
    "\n",
    "inventory = initialize_inventory(products) # initialize the inventory\n",
    "\n",
    "print(inventory)"
   ]
  },
  {
   "cell_type": "code",
   "execution_count": 42,
   "id": "8424ab7f",
   "metadata": {},
   "outputs": [
    {
     "name": "stdout",
     "output_type": "stream",
     "text": [
      "\n",
      "Customer orders:\n",
      "{'hat', 'mug'}\n"
     ]
    }
   ],
   "source": [
    "customer_orders = get_customer_orders(products, inventory) # get the customer orders\n",
    "\n",
    "update_inventory(customer_orders, inventory) # update the inventory"
   ]
  },
  {
   "cell_type": "code",
   "execution_count": 63,
   "id": "d6ec8f73",
   "metadata": {},
   "outputs": [
    {
     "name": "stdout",
     "output_type": "stream",
     "text": [
      "\n",
      "Order Statistics:\n",
      "Total Products Ordered: 2\n",
      "Percentage of Products Ordered: 40.0 %\n"
     ]
    }
   ],
   "source": [
    "order_status = order_statistics(customer_orders, products) # calculate the order statistics\n",
    "\n",
    "print_order_statistics(order_status) # print the order statistics"
   ]
  },
  {
   "cell_type": "code",
   "execution_count": 64,
   "id": "863939db",
   "metadata": {},
   "outputs": [
    {
     "name": "stdout",
     "output_type": "stream",
     "text": [
      "\n",
      "t-shirt: 7\n",
      "mug: 3\n",
      "hat: 8\n",
      "book: 3\n",
      "keychain: 2\n"
     ]
    }
   ],
   "source": [
    "print_update_inventory(inventory) # print the updated inventory"
   ]
  }
 ],
 "metadata": {
  "kernelspec": {
   "display_name": "Python 3 (ipykernel)",
   "language": "python",
   "name": "python3"
  },
  "language_info": {
   "codemirror_mode": {
    "name": "ipython",
    "version": 3
   },
   "file_extension": ".py",
   "mimetype": "text/x-python",
   "name": "python",
   "nbconvert_exporter": "python",
   "pygments_lexer": "ipython3",
   "version": "3.9.12"
  }
 },
 "nbformat": 4,
 "nbformat_minor": 5
}
